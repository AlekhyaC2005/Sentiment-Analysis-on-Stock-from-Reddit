{
 "cells": [
  {
   "cell_type": "code",
   "execution_count": null,
   "id": "8b299323",
   "metadata": {},
   "outputs": [],
   "source": [
    "mport nest_asyncio\n",
    "import asyncio\n",
    "import asyncpraw\n",
    "import pandas as pd\n",
    "from datetime import datetime\n",
    "\n",
    "# Enable nested event loops (useful in Jupyter or similar environments)\n",
    "nest_asyncio.apply()\n",
    "\n",
    "# Reddit API credentials\n",
    "client_id = \"0GsblhgdFh2tJHxs4QLC_Q\"  # Replace with your client ID\n",
    "client_secret = \"D9QFWl-JJwS-7ii_1U5Gljv4EDxjrQ\"  # Replace with your client secret\n",
    "user_agent = \"Stock Data Collection\"\n",
    "\n",
    "# Define the async function to fetch comments\n",
    "async def fetch_tata_comments():\n",
    "    reddit = asyncpraw.Reddit(\n",
    "        client_id=client_id,\n",
    "        client_secret=client_secret,\n",
    "        user_agent=user_agent,\n",
    "    )\n",
    "\n",
    "    subreddit = await reddit.subreddit(\"IndianStockMarket\")\n",
    "    comments_data = []\n",
    "    keywords = [\"tata\", \"tatamotors\", \"tata steel\", \"tcs\"]  # Expanded keywords\n",
    "\n",
    "    async for comment in subreddit.comments(limit=1000):  # Increase limit\n",
    "        if any(keyword in comment.body.lower() for keyword in keywords):\n",
    "            comments_data.append({\n",
    "                \"Date\": datetime.utcfromtimestamp(comment.created_utc).strftime('%Y-%m-%d %H:%M:%S'),\n",
    "                \"Comment\": comment.body\n",
    "            })\n",
    "\n",
    "    if comments_data:\n",
    "        df = pd.DataFrame(comments_data)\n",
    "        df.to_csv(\"tata.csv\", index=False, encoding=\"utf-8\")\n",
    "        print(\"Saved comments to 'tata.csv'\")\n",
    "    else:\n",
    "        print(\"No relevant comments found.\")\n",
    "\n",
    "    await reddit.close()\n",
    "\n",
    "# Run the function in a nested event loop\n",
    "loop = asyncio.get_event_loop()\n",
    "loop.run_until_complete(fetch_tata_comments())\n"
   ]
  },
  {
   "cell_type": "code",
   "execution_count": null,
   "id": "c4be3c1e",
   "metadata": {},
   "outputs": [],
   "source": [
    "pd.set_option(\"display.max_columns\", None)  # Show all columns\n",
    "pd.set_option(\"display.max_rows\", None)     # Show all rows\n",
    "pd.set_option(\"display.max_colwidth\", None)\n",
    "tata=pd.read_csv('/content/tata.csv')\n",
    "tata"
   ]
  },
  {
   "cell_type": "code",
   "execution_count": null,
   "id": "6ea575a7",
   "metadata": {},
   "outputs": [],
   "source": [
    "import yfinance as yf\n",
    "\n",
    "# Fetch stock data\n",
    "ticker = \"TATAMOTORS.BO\"  # Use the appropriate ticker symbol\n",
    "stock_data = yf.download(ticker, start=\"2024-11-28\", end=\"2024-11-29\")\n",
    "\n",
    "# Save to CSV\n",
    "stock_data.to_csv(\"tata_stock_data.csv\")\n",
    "\n",
    "df=pd.read_csv('/content/tata_stock_data.csv')\n",
    "df"
   ]
  },
  {
   "cell_type": "code",
   "execution_count": null,
   "id": "9750e228",
   "metadata": {},
   "outputs": [],
   "source": [
    "ta={'Ticker':['TATAMOTORS.BO'],'Date':['2024-11-28 00:00:00+00:00'],'Open':['782.9500122070312'],'High':['792.5999755859375'],'Low':['778.2999877929688'],'Close':['779.8499755859375'],'Adj Close':['779.8499755859375'],'Volume':['821136']}\n",
    "tat=pd.DataFrame(ta)\n",
    "tat.to_csv('TBS.csv')"
   ]
  }
 ],
 "metadata": {
  "kernelspec": {
   "display_name": "Python 3 (ipykernel)",
   "language": "python",
   "name": "python3"
  },
  "language_info": {
   "codemirror_mode": {
    "name": "ipython",
    "version": 3
   },
   "file_extension": ".py",
   "mimetype": "text/x-python",
   "name": "python",
   "nbconvert_exporter": "python",
   "pygments_lexer": "ipython3",
   "version": "3.11.4"
  }
 },
 "nbformat": 4,
 "nbformat_minor": 5
}
