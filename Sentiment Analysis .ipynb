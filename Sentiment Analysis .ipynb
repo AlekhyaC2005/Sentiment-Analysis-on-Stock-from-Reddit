{
 "cells": [
  {
   "cell_type": "code",
   "execution_count": 2,
   "id": "9d92d088",
   "metadata": {},
   "outputs": [
    {
     "name": "stdout",
     "output_type": "stream",
     "text": [
      "Collecting textblob\n",
      "  Obtaining dependency information for textblob from https://files.pythonhosted.org/packages/02/07/5fd2945356dd839974d3a25de8a142dc37293c21315729a41e775b5f3569/textblob-0.18.0.post0-py3-none-any.whl.metadata\n",
      "  Downloading textblob-0.18.0.post0-py3-none-any.whl.metadata (4.5 kB)\n",
      "Requirement already satisfied: nltk>=3.8 in d:\\ana\\lib\\site-packages (from textblob) (3.8.1)\n",
      "Requirement already satisfied: click in d:\\ana\\lib\\site-packages (from nltk>=3.8->textblob) (8.0.4)\n",
      "Requirement already satisfied: joblib in d:\\ana\\lib\\site-packages (from nltk>=3.8->textblob) (1.1.1)\n",
      "Requirement already satisfied: regex>=2021.8.3 in d:\\ana\\lib\\site-packages (from nltk>=3.8->textblob) (2022.7.9)\n",
      "Requirement already satisfied: tqdm in d:\\ana\\lib\\site-packages (from nltk>=3.8->textblob) (4.65.0)\n",
      "Requirement already satisfied: colorama in d:\\ana\\lib\\site-packages (from click->nltk>=3.8->textblob) (0.4.6)\n",
      "Downloading textblob-0.18.0.post0-py3-none-any.whl (626 kB)\n",
      "   ---------------------------------------- 0.0/626.3 kB ? eta -:--:--\n",
      "   --- ------------------------------------ 61.4/626.3 kB 1.1 MB/s eta 0:00:01\n",
      "   --------------- ------------------------ 245.8/626.3 kB 3.0 MB/s eta 0:00:01\n",
      "   -------------------------------- ------- 501.8/626.3 kB 3.9 MB/s eta 0:00:01\n",
      "   ---------------------------------------- 626.3/626.3 kB 3.3 MB/s eta 0:00:00\n",
      "Installing collected packages: textblob\n",
      "Successfully installed textblob-0.18.0.post0\n",
      "Note: you may need to restart the kernel to use updated packages.\n"
     ]
    }
   ],
   "source": [
    "\n",
    "pip install textblob\n"
   ]
  },
  {
   "cell_type": "code",
   "execution_count": 7,
   "id": "e026fc65",
   "metadata": {},
   "outputs": [
    {
     "name": "stdout",
     "output_type": "stream",
     "text": [
      "Columns in the dataset: Index(['Date', 'Comment'], dtype='object')\n",
      "First few rows of the data:\n",
      "                  Date                                            Comment\n",
      "0  2024-11-29 04:58:54   If only tata can better their after sale service\n",
      "1  2024-11-29 04:52:11  https://preview.redd.it/qo72fcycur3e1.jpeg?wid...\n",
      "2  2024-11-29 04:37:05  I really resonate with the idea of Tata Motors...\n",
      "3  2024-11-29 04:00:13  And most likely it’s going only down from here...\n",
      "4  2024-11-29 03:51:32  Exactly came here to post this. There are many...\n",
      "\n",
      "Average Sentiment Polarity: 0.07879751973849197\n",
      "Processed data with sentiment scores saved to 'tata_sentiment_analysis.csv'\n"
     ]
    },
    {
     "data": {
      "image/png": "[encoded data removed]",
      "text/plain": [
       "<Figure size 1000x600 with 1 Axes>"
      ]
     },
     "metadata": {},
     "output_type": "display_data"
    }
   ],
   "source": [
    "# Import necessary libraries\n",
    "import pandas as pd\n",
    "import re\n",
    "from textblob import TextBlob\n",
    "\n",
    "# Step 1: Load the data\n",
    "file_path = 'tata.csv'  # Replace with the correct file path\n",
    "data = pd.read_csv(file_path)\n",
    "\n",
    "# Step 2: Inspect the data\n",
    "print(\"Columns in the dataset:\", data.columns)\n",
    "print(\"First few rows of the data:\")\n",
    "print(data.head())\n",
    "\n",
    "# Assume the column with comments is named 'comments'. Update if needed.\n",
    "if 'Comment' in data.columns:\n",
    "    text_column = 'Comment'\n",
    "else:\n",
    "    raise ValueError(\"The column with comments was not found. Please check the dataset.\")\n",
    "\n",
    "# Step 3: Clean the text data\n",
    "def clean_text(text):\n",
    "    \"\"\"\n",
    "    Function to clean text by removing URLs, special characters, and extra spaces.\n",
    "    \"\"\"\n",
    "    text = re.sub(r\"http\\S+\", \"\", text)  # Remove URLs\n",
    "    text = re.sub(r\"[^a-zA-Z\\s]\", \"\", text)  # Remove non-alphabetic characters\n",
    "    text = text.lower()  # Convert to lowercase\n",
    "    return text\n",
    "\n",
    "data['cleaned_text'] = data[text_column].apply(lambda x: clean_text(str(x)))\n",
    "\n",
    "# Step 4: Perform Sentiment Analysis\n",
    "def get_sentiment(text):\n",
    "    \"\"\"\n",
    "    Function to calculate sentiment polarity using TextBlob.\n",
    "    \"\"\"\n",
    "    return TextBlob(text).sentiment.polarity\n",
    "\n",
    "data['sentiment'] = data['cleaned_text'].apply(get_sentiment)\n",
    "\n",
    "# Step 5: Aggregate Sentiment Scores\n",
    "average_sentiment = data['sentiment'].mean()\n",
    "print(f\"\\nAverage Sentiment Polarity: {average_sentiment}\")\n",
    "\n",
    "# Step 6: Save the processed data with sentiment scores\n",
    "output_file = 'tata_sentiment_analysis.csv'\n",
    "data.to_csv(output_file, index=False, encoding='utf-8')\n",
    "print(f\"Processed data with sentiment scores saved to '{output_file}'\")\n",
    "\n",
    "# Optional: Plot Sentiment Distribution\n",
    "import matplotlib.pyplot as plt\n",
    "plt.figure(figsize=(10, 6))\n",
    "plt.hist(data['sentiment'], bins=20, color='blue', edgecolor='black')\n",
    "plt.title('Sentiment Polarity Distribution')\n",
    "plt.xlabel('Sentiment Polarity')\n",
    "plt.ylabel('Frequency')\n",
    "plt.grid(True)\n",
    "plt.show()\n"
   ]
  },
  {
   "cell_type": "code",
   "execution_count": 19,
   "id": "72159d7b",
   "metadata": {},
   "outputs": [
    {
     "name": "stdout",
     "output_type": "stream",
     "text": [
      "\n",
      "After splitting the Date column:\n",
      "         Date                                            Comment      Time\n",
      "0  2024-11-29   If only tata can better their after sale service  04:58:54\n",
      "1  2024-11-29  https://preview.redd.it/qo72fcycur3e1.jpeg?wid...  04:52:11\n",
      "2  2024-11-29  I really resonate with the idea of Tata Motors...  04:37:05\n",
      "3  2024-11-29  And most likely it’s going only down from here...  04:00:13\n",
      "4  2024-11-29  Exactly came here to post this. There are many...  03:51:32\n"
     ]
    }
   ],
   "source": [
    "data[['Date', 'Time']] = data['Date'].str.split(' ', expand=True)\n",
    "print(\"\\nAfter splitting the Date column:\")\n",
    "print(data.head())"
   ]
  }
 ],
 "metadata": {
  "kernelspec": {
   "display_name": "Python 3 (ipykernel)",
   "language": "python",
   "name": "python3"
  },
  "language_info": {
   "codemirror_mode": {
    "name": "ipython",
    "version": 3
   },
   "file_extension": ".py",
   "mimetype": "text/x-python",
   "name": "python",
   "nbconvert_exporter": "python",
   "pygments_lexer": "ipython3",
   "version": "3.11.4"
  }
 },
 "nbformat": 4,
 "nbformat_minor": 5
}
